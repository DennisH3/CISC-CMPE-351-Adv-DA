{
  "nbformat": 4,
  "nbformat_minor": 0,
  "metadata": {
    "colab": {
      "name": "results.ipynb",
      "provenance": []
    },
    "kernelspec": {
      "name": "python3",
      "display_name": "Python 3"
    },
    "language_info": {
      "name": "python"
    }
  },
  "cells": [
    {
      "cell_type": "code",
      "metadata": {
        "id": "d3yfs6R8lFpj"
      },
      "source": [
        "import pandas as pd\n",
        "import numpy as np"
      ],
      "execution_count": 1,
      "outputs": []
    },
    {
      "cell_type": "code",
      "metadata": {
        "id": "TLFcIdYxlWIJ"
      },
      "source": [
        "y_test = pd.read_csv('/content/drive/MyDrive/y_test2.csv')\n",
        "#y_test\n",
        "day1 =np.loadtxt('/content/drive/MyDrive/y_pred_5.csv',delimiter=',')\n",
        "day1 = pd.DataFrame(data=day1,columns = y_test.columns)\n",
        "#day1.head()"
      ],
      "execution_count": 30,
      "outputs": []
    },
    {
      "cell_type": "code",
      "metadata": {
        "id": "AW_LWfgilSO6",
        "colab": {
          "base_uri": "https://localhost:8080/"
        },
        "outputId": "424bc117-2f2b-4200-bafb-895d9a5d9282"
      },
      "source": [
        "period = 5\n",
        "pred = day1.iloc[:, 0:period]\n",
        "test = y_test.iloc[:, 0:period]\n",
        "max_test = []\n",
        "min_test = []\n",
        "max_pred = []\n",
        "min_pred = []\n",
        "\n",
        "for i in pred.index:\n",
        "  min_pred.append(pred.iloc[i].idxmin())\n",
        "  max_pred.append(pred.iloc[i].idxmax())\n",
        "  min_test.append(test.iloc[i].idxmin())\n",
        "  max_test.append(test.iloc[i].idxmax())\n",
        "\n",
        "out = pd.DataFrame({'max_test':max_test,'min_test':min_test,'min_pred':min_pred,'max_pred':max_pred})\n",
        "out[\"max_test\"] = out.max_test.str.extract('(\\d+)')\n",
        "out[\"min_test\"] = out.min_test.str.extract('(\\d+)')\n",
        "out[\"min_pred\"] = out.min_pred.str.extract('(\\d+)')\n",
        "out[\"max_pred\"] = out.max_pred.str.extract('(\\d+)')\n",
        "\n",
        "out = out.astype('int')\n",
        "out[\"max_dif\"] = out[\"max_test\"] - out[\"max_pred\"]\n",
        "out[\"min_dif\"] = out[\"min_test\"] - out[\"min_pred\"]\n",
        "max_dif = out.groupby(['max_dif']).size().reset_index(name='count')\n",
        "min_dif = out.groupby(['min_dif']).size().reset_index(name='count')\n",
        "print(\"Highest Day Accuracy +/-\",abs(out['max_dif']).mean())\n",
        "print(\"Highest Day Correct Prediction\",max_dif.loc[max_dif[\"max_dif\"] == 0][\"count\"].sum() / max_dif[\"count\"].sum() )\n",
        "print(\"Lowest Day Accuracy +/-\",abs(out['min_dif']).mean())\n",
        "print(\"Lowest Day Correct Prediction\",min_dif.loc[min_dif[\"min_dif\"] == 0][\"count\"].sum() / min_dif[\"count\"].sum() )\n",
        "\n"
      ],
      "execution_count": 31,
      "outputs": [
        {
          "output_type": "stream",
          "text": [
            "Highest Day Accuracy +/- 1.8943030740540214\n",
            "Highest Day Correct Prediction 0.22326495417995149\n",
            "Lowest Day Accuracy +/- 1.8368726062283183\n",
            "Lowest Day Correct Prediction 0.2112735366660651\n"
          ],
          "name": "stdout"
        }
      ]
    },
    {
      "cell_type": "code",
      "metadata": {
        "colab": {
          "base_uri": "https://localhost:8080/"
        },
        "id": "p1MyQMwlFN37",
        "outputId": "8f764fc3-e318-4ed0-fd50-d715a5fe78aa"
      },
      "source": [
        "period = 10\n",
        "pred = day1.iloc[:, 0:period]\n",
        "test = y_test.iloc[:, 0:period]\n",
        "max_test = []\n",
        "min_test = []\n",
        "max_pred = []\n",
        "min_pred = []\n",
        "\n",
        "for i in pred.index:\n",
        "  min_pred.append(pred.iloc[i].idxmin())\n",
        "  max_pred.append(pred.iloc[i].idxmax())\n",
        "  min_test.append(test.iloc[i].idxmin())\n",
        "  max_test.append(test.iloc[i].idxmax())\n",
        "\n",
        "out = pd.DataFrame({'max_test':max_test,'min_test':min_test,'min_pred':min_pred,'max_pred':max_pred})\n",
        "out[\"max_test\"] = out.max_test.str.extract('(\\d+)')\n",
        "out[\"min_test\"] = out.min_test.str.extract('(\\d+)')\n",
        "out[\"min_pred\"] = out.min_pred.str.extract('(\\d+)')\n",
        "out[\"max_pred\"] = out.max_pred.str.extract('(\\d+)')\n",
        "\n",
        "out = out.astype('int')\n",
        "out[\"max_dif\"] = out[\"max_test\"] - out[\"max_pred\"]\n",
        "out[\"min_dif\"] = out[\"min_test\"] - out[\"min_pred\"]\n",
        "max_dif = out.groupby(['max_dif']).size().reset_index(name='count')\n",
        "min_dif = out.groupby(['min_dif']).size().reset_index(name='count')\n",
        "print(\"Highest Day Accuracy +/-\",abs(out['max_dif']).mean())\n",
        "print(\"Highest Day Correct Prediction\",max_dif.loc[max_dif[\"max_dif\"] == 0][\"count\"].sum() / max_dif[\"count\"].sum() )\n",
        "print(\"Highest Day Correct Prediction with 1 day tolerance\",max_dif.loc[max_dif[\"max_dif\"].between(-1,1)][\"count\"].sum() / max_dif[\"count\"].sum() )\n",
        "print(\"Lowest Day Accuracy +/-\",abs(out['min_dif']).mean())\n",
        "print(\"Lowest Day Correct Prediction\",min_dif.loc[min_dif[\"min_dif\"] == 0][\"count\"].sum() / min_dif[\"count\"].sum() )\n",
        "print(\"Lowest Day Correct Prediction with 1 day tolerance\",min_dif.loc[min_dif[\"min_dif\"].between(-1,1)][\"count\"].sum() / min_dif[\"count\"].sum() )"
      ],
      "execution_count": 32,
      "outputs": [
        {
          "output_type": "stream",
          "text": [
            "Highest Day Accuracy +/- 4.10655918506487\n",
            "Highest Day Correct Prediction 0.13272774669634443\n",
            "Highest Day Correct Prediction with 1 day tolerance 0.26655838296336404\n",
            "Lowest Day Accuracy +/- 3.856804828651066\n",
            "Lowest Day Correct Prediction 0.12095690709659307\n",
            "Lowest Day Correct Prediction with 1 day tolerance 0.2695462110730113\n"
          ],
          "name": "stdout"
        }
      ]
    },
    {
      "cell_type": "code",
      "metadata": {
        "colab": {
          "base_uri": "https://localhost:8080/"
        },
        "id": "Ds7GHEgaBRDr",
        "outputId": "93e2a5e1-14ac-4ca0-e3be-68498577c6bb"
      },
      "source": [
        "period = 20\n",
        "pred = day1.iloc[:, 0:period]\n",
        "test = y_test.iloc[:, 0:period]\n",
        "max_test = []\n",
        "min_test = []\n",
        "max_pred = []\n",
        "min_pred = []\n",
        "\n",
        "for i in pred.index:\n",
        "  min_pred.append(pred.iloc[i].idxmin())\n",
        "  max_pred.append(pred.iloc[i].idxmax())\n",
        "  min_test.append(test.iloc[i].idxmin())\n",
        "  max_test.append(test.iloc[i].idxmax())\n",
        "\n",
        "out = pd.DataFrame({'max_test':max_test,'min_test':min_test,'min_pred':min_pred,'max_pred':max_pred})\n",
        "out[\"max_test\"] = out.max_test.str.extract('(\\d+)')\n",
        "out[\"min_test\"] = out.min_test.str.extract('(\\d+)')\n",
        "out[\"min_pred\"] = out.min_pred.str.extract('(\\d+)')\n",
        "out[\"max_pred\"] = out.max_pred.str.extract('(\\d+)')\n",
        "\n",
        "out = out.astype('int')\n",
        "out[\"max_dif\"] = out[\"max_test\"] - out[\"max_pred\"]\n",
        "out[\"min_dif\"] = out[\"min_test\"] - out[\"min_pred\"]\n",
        "max_dif = out.groupby(['max_dif']).size().reset_index(name='count')\n",
        "min_dif = out.groupby(['min_dif']).size().reset_index(name='count')\n",
        "print(\"Highest Day Accuracy +/-\",abs(out['max_dif']).mean())\n",
        "print(\"Highest Day Correct Prediction\",max_dif.loc[max_dif[\"max_dif\"] == 0][\"count\"].sum() / max_dif[\"count\"].sum() )\n",
        "print(\"Highest Day Correct Prediction with 1 day tolerance\",max_dif.loc[max_dif[\"max_dif\"].between(-1,1)][\"count\"].sum() / max_dif[\"count\"].sum() )\n",
        "print(\"Highest Day Correct Prediction with 2 day tolerance\",max_dif.loc[max_dif[\"max_dif\"].between(-2,2)][\"count\"].sum() / max_dif[\"count\"].sum() )\n",
        "print(\"Lowest Day Accuracy +/-\",abs(out['min_dif']).mean())\n",
        "print(\"Lowest Day Correct Prediction\",min_dif.loc[min_dif[\"min_dif\"] == 0][\"count\"].sum() / min_dif[\"count\"].sum() )\n",
        "print(\"Lowest Day Correct Prediction with 1 day tolerance\",min_dif.loc[min_dif[\"min_dif\"].between(-1,1)][\"count\"].sum() / min_dif[\"count\"].sum() )\n",
        "print(\"Lowest Day Correct Prediction with 2 day tolerance\",min_dif.loc[min_dif[\"min_dif\"].between(-2,2)][\"count\"].sum() / min_dif[\"count\"].sum() )"
      ],
      "execution_count": 33,
      "outputs": [
        {
          "output_type": "stream",
          "text": [
            "Highest Day Accuracy +/- 8.460466422025707\n",
            "Highest Day Correct Prediction 0.07591890753774891\n",
            "Highest Day Correct Prediction with 1 day tolerance 0.1597184623714131\n",
            "Highest Day Correct Prediction with 2 day tolerance 0.2281577733662195\n",
            "Lowest Day Accuracy +/- 7.826184603661593\n",
            "Lowest Day Correct Prediction 0.07166776955623734\n",
            "Lowest Day Correct Prediction with 1 day tolerance 0.16457117648238384\n",
            "Lowest Day Correct Prediction with 2 day tolerance 0.24506206260402255\n"
          ],
          "name": "stdout"
        }
      ]
    },
    {
      "cell_type": "code",
      "metadata": {
        "colab": {
          "base_uri": "https://localhost:8080/"
        },
        "id": "fOm13GS-dgwr",
        "outputId": "07081d38-8429-46a1-a8be-919bd4a1fd78"
      },
      "source": [
        "from sklearn.metrics import mean_squared_error\n",
        "#from sklearn.metrics import mean_absolute_percentage_error\n",
        "\n",
        "mean_squared_error(y_test, day1, multioutput = 'raw_values', squared= False)"
      ],
      "execution_count": 34,
      "outputs": [
        {
          "output_type": "execute_result",
          "data": {
            "text/plain": [
              "array([5.37525845e-01, 5.69974069e-01, 5.85147507e-01, 5.84655360e-01,\n",
              "       6.02338001e-01, 6.17466683e-01, 4.00781441e+03, 1.60375923e+04,\n",
              "       9.02043806e+03, 1.00222591e+03, 1.00206973e+03, 4.00951037e+03,\n",
              "       4.00950014e+03, 4.00908061e+03, 4.00949748e+03, 4.00953753e+03,\n",
              "       3.03799091e+02, 3.03820615e+02, 3.03988522e+02, 3.04205577e+02])"
            ]
          },
          "metadata": {
            "tags": []
          },
          "execution_count": 34
        }
      ]
    }
  ]
}