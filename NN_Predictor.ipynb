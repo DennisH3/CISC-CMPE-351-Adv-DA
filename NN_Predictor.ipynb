{
  "nbformat": 4,
  "nbformat_minor": 5,
  "metadata": {
    "kernelspec": {
      "display_name": "Python 3",
      "language": "python",
      "name": "python3"
    },
    "language_info": {
      "codemirror_mode": {
        "name": "ipython",
        "version": 3
      },
      "file_extension": ".py",
      "mimetype": "text/x-python",
      "name": "python",
      "nbconvert_exporter": "python",
      "pygments_lexer": "ipython3",
      "version": "3.7.10"
    },
    "colab": {
      "name": "NN Predictor.ipynb",
      "provenance": [],
      "collapsed_sections": []
    }
  },
  "cells": [
    {
      "cell_type": "code",
      "metadata": {
        "id": "registered-membership"
      },
      "source": [
        "import numpy as np\n",
        "import matplotlib.pyplot as plt\n",
        "import pandas as pd\n",
        "from keras.models import Sequential\n",
        "from keras.layers import LSTM, Dense, Dropout, Masking, Embedding, Conv2D, MaxPooling2D\n",
        "from sklearn.model_selection import train_test_split\n",
        "from sklearn.preprocessing import MinMaxScaler\n",
        "from sklearn.metrics import mean_squared_error"
      ],
      "id": "registered-membership",
      "execution_count": 1,
      "outputs": []
    },
    {
      "cell_type": "code",
      "metadata": {
        "id": "SJ85w_g1mbYc"
      },
      "source": [
        "from pydrive.auth import GoogleAuth\n",
        "from pydrive.drive import GoogleDrive\n",
        "from google.colab import auth\n",
        "from oauth2client.client import GoogleCredentials\n",
        "import pandas as pd\n",
        "import numpy as np\n",
        "auth.authenticate_user()\n",
        "gauth = GoogleAuth()\n",
        "gauth.credentials = GoogleCredentials.get_application_default()\n",
        "drive = GoogleDrive(gauth)"
      ],
      "id": "SJ85w_g1mbYc",
      "execution_count": 2,
      "outputs": []
    },
    {
      "cell_type": "code",
      "metadata": {
        "id": "eBbLsgWWQBtm"
      },
      "source": [
        "# Load file into pandas data frame\n",
        "myDataFrame = pd.read_csv('10dayWindow_original_no_duplicates_date_tick.csv')\n",
        "\n",
        "# Drop rows with NaN\n",
        "myDataFrame.dropna(inplace=True)\n",
        "\n",
        "# Convert stock price movement to % change\n",
        "for i in range(2, 22):\n",
        "    myDataFrame['adjclose_{}_Y'.format(i)] = (myDataFrame['adjclose_{}_Y'.format(i)] - myDataFrame['adjclose_1_X'])/myDataFrame['adjclose_1_X']\n",
        "\n",
        "# Get 80% of the data by date\n",
        "myDataFrame['date'] = pd.to_datetime(myDataFrame['date'])\n",
        "myDataFrame = myDataFrame.sort_values('date', ascending = False)\n",
        "myDataFrame = myDataFrame.reset_index(drop=True)\n",
        "dates = pd.to_datetime(myDataFrame['date'])\n",
        "myDataFrame = myDataFrame.drop(columns = ['date', 'ticker'])\n",
        "(dates <= dates.quantile(.8)).idxmax()\n",
        "\n",
        "# Most recent data for testing\n",
        "test =  myDataFrame.head(49869)\n",
        "\n",
        "# Rest of the data is training\n",
        "train = myDataFrame.tail(-49869)"
      ],
      "id": "eBbLsgWWQBtm",
      "execution_count": 10,
      "outputs": []
    },
    {
      "cell_type": "code",
      "metadata": {
        "id": "fmlrW5WMUC8x"
      },
      "source": [
        "#Run this if using both Reddit and Financial data\n",
        "X_train = train.iloc[:, list(range(0,120))+list(range(240,246))] \n",
        "y_train = train.iloc[:, list(range(124, 244, 6))] \n",
        "X_test = test.iloc[:, list(range(0,120))+list(range(240,246))]\n",
        "y_test = test.iloc[:, list(range(124, 244, 6))]"
      ],
      "id": "fmlrW5WMUC8x",
      "execution_count": 11,
      "outputs": []
    },
    {
      "cell_type": "code",
      "metadata": {
        "id": "MaORFdZJUAKy"
      },
      "source": [
        "#Run this if only using Reddit data\n",
        "X_train = train.iloc[:, list(range(240,246))] \n",
        "y_train = train.iloc[:, list(range(124, 244, 6))] \n",
        "X_test = test.iloc[:, list(range(240,246))]\n",
        "y_test = test.iloc[:, list(range(124, 244, 6))]"
      ],
      "id": "MaORFdZJUAKy",
      "execution_count": 12,
      "outputs": []
    },
    {
      "cell_type": "code",
      "metadata": {
        "id": "checked-silence"
      },
      "source": [
        "indim = X_train.shape[1]\n",
        "outdim = y_train.shape[1]\n",
        "\n",
        "#Definte Feed-Forward Neural Network\n",
        "model = Sequential()\n",
        "\n",
        "model.add(Dense(40, input_dim=indim, activation=\"softmax\"))\n",
        "model.add(Dense(20, activation=\"softmax\"))\n",
        "model.add(Dense(outdim))\n",
        "\n",
        "# Compile the model\n",
        "model.compile(optimizer='rmsprop', loss='mse')\n",
        "\n",
        "#Fit the model to training data\n",
        "model.fit(X_train,y_train, epochs=10, batch_size=20, verbose=0)\n",
        "\n",
        "#Make predictions\n",
        "ypred = model.predict(X_test)"
      ],
      "id": "checked-silence",
      "execution_count": 14,
      "outputs": []
    },
    {
      "cell_type": "code",
      "metadata": {
        "id": "FOpey-6jRlOa"
      },
      "source": [
        "#Save the predictions and true results to csv's\n",
        "np.savetxt(r\"NN_10W_Reddit_ytest.csv\", y_test, delimiter=\",\")\n",
        "np.savetxt(r\"NN_10W_Reddit_ypred.csv\", ypred, delimiter=\",\")"
      ],
      "id": "FOpey-6jRlOa",
      "execution_count": null,
      "outputs": []
    }
  ]
}