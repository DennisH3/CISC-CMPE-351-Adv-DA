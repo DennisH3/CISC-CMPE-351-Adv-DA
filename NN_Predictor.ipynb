{
  "nbformat": 4,
  "nbformat_minor": 5,
  "metadata": {
    "kernelspec": {
      "display_name": "Python 3",
      "language": "python",
      "name": "python3"
    },
    "language_info": {
      "codemirror_mode": {
        "name": "ipython",
        "version": 3
      },
      "file_extension": ".py",
      "mimetype": "text/x-python",
      "name": "python",
      "nbconvert_exporter": "python",
      "pygments_lexer": "ipython3",
      "version": "3.7.10"
    },
    "colab": {
      "name": "NN Predictor.ipynb",
      "provenance": [],
      "collapsed_sections": []
    }
  },
  "cells": [
    {
      "cell_type": "code",
      "metadata": {
        "id": "registered-membership"
      },
      "source": [
        "import numpy as np\n",
        "import matplotlib.pyplot as plt\n",
        "import pandas as pd\n",
        "from keras.models import Sequential\n",
        "from keras.layers import LSTM, Dense, Dropout, Masking, Embedding, Conv2D, MaxPooling2D\n",
        "from sklearn.model_selection import train_test_split\n",
        "from sklearn.preprocessing import MinMaxScaler\n",
        "from sklearn.metrics import mean_squared_error"
      ],
      "id": "registered-membership",
      "execution_count": 1,
      "outputs": []
    },
    {
      "cell_type": "code",
      "metadata": {
        "id": "SJ85w_g1mbYc"
      },
      "source": [
        "from pydrive.auth import GoogleAuth\n",
        "from pydrive.drive import GoogleDrive\n",
        "from google.colab import auth\n",
        "from oauth2client.client import GoogleCredentials\n",
        "import pandas as pd\n",
        "import numpy as np\n",
        "auth.authenticate_user()\n",
        "gauth = GoogleAuth()\n",
        "gauth.credentials = GoogleCredentials.get_application_default()\n",
        "drive = GoogleDrive(gauth)"
      ],
      "id": "SJ85w_g1mbYc",
      "execution_count": 2,
      "outputs": []
    },
    {
      "cell_type": "code",
      "metadata": {
        "id": "eBbLsgWWQBtm",
        "colab": {
          "base_uri": "https://localhost:8080/"
        },
        "outputId": "21514b88-6ca9-496b-9f39-012499d92847"
      },
      "source": [
        "# Mount Google Drive\n",
        "from google.colab import drive\n",
        "drive.mount('/content/drive/')\n",
        "\n",
        "# Change directory\n",
        "%cd /content/drive/My Drive/CISC_CMPE351\n",
        "\n",
        "# Load file into pandas data frame\n",
        "myDataFrame = pd.read_csv('10dayWindow_original_no_duplicates_date_tick.csv')\n",
        "\n",
        "# Drop rows with NaN\n",
        "myDataFrame.dropna(inplace=True)\n",
        "\n",
        "# Convert stock price movement to % change\n",
        "for i in range(2, 22):\n",
        "    myDataFrame['adjclose_{}_Y'.format(i)] = (myDataFrame['adjclose_{}_Y'.format(i)] - myDataFrame['adjclose_1_X'])/myDataFrame['adjclose_1_X']\n",
        "\n",
        "# Get 80% of the data by date\n",
        "myDataFrame['date'] = pd.to_datetime(myDataFrame['date'])\n",
        "myDataFrame = myDataFrame.sort_values('date', ascending = False)\n",
        "myDataFrame = myDataFrame.reset_index(drop=True)\n",
        "dates = pd.to_datetime(myDataFrame['date'])\n",
        "myDataFrame = myDataFrame.drop(columns = ['date', 'ticker'])\n",
        "(dates <= dates.quantile(.8)).idxmax()\n",
        "\n",
        "# Most recent data for testing\n",
        "test =  myDataFrame.head(49869)\n",
        "\n",
        "# Rest of the data is training\n",
        "train = myDataFrame.tail(-49869)"
      ],
      "id": "eBbLsgWWQBtm",
      "execution_count": 4,
      "outputs": [
        {
          "output_type": "stream",
          "text": [
            "Mounted at /content/drive/\n",
            "/content/drive/.shortcut-targets-by-id/1z4HnqdQQElB4DgNtOX0BZ1t5Ge-L6W5i/CISC_CMPE351\n"
          ],
          "name": "stdout"
        }
      ]
    },
    {
      "cell_type": "code",
      "metadata": {
        "id": "fmlrW5WMUC8x"
      },
      "source": [
        "#Run this if using both Reddit and Financial data\n",
        "X_train = train.iloc[:, list(range(0,120))+list(range(240,246))] \n",
        "y_train = train.iloc[:, list(range(124, 244, 6))] \n",
        "X_test = test.iloc[:, list(range(0,120))+list(range(240,246))]\n",
        "y_test = test.iloc[:, list(range(124, 244, 6))]"
      ],
      "id": "fmlrW5WMUC8x",
      "execution_count": null,
      "outputs": []
    },
    {
      "cell_type": "code",
      "metadata": {
        "id": "MaORFdZJUAKy"
      },
      "source": [
        "#Run this if only using Reddit data\n",
        "X_train = train.iloc[:, list(range(240,246))] \n",
        "y_train = train.iloc[:, list(range(124, 244, 6))] \n",
        "X_test = test.iloc[:, list(range(240,246))]\n",
        "y_test = test.iloc[:, list(range(124, 244, 6))]"
      ],
      "id": "MaORFdZJUAKy",
      "execution_count": null,
      "outputs": []
    },
    {
      "cell_type": "code",
      "metadata": {
        "id": "checked-silence",
        "colab": {
          "base_uri": "https://localhost:8080/"
        },
        "outputId": "6df45987-a6b5-44ed-e09b-74c8a9233437"
      },
      "source": [
        "indim = X_train.shape[1]\n",
        "outdim = y_train.shape[1]\n",
        "\n",
        "#Definte Feed-Forward Neural Network\n",
        "model = Sequential()\n",
        "\n",
        "model.add(Dense(40, input_dim=indim, activation=\"softmax\"))\n",
        "model.add(Dense(20, activation=\"softmax\"))\n",
        "model.add(Dense(outdim))\n",
        "\n",
        "# Compile the model\n",
        "model.compile(optimizer='rmsprop', loss='mse')\n",
        "\n",
        "#Fit the model to training data\n",
        "model.fit(X_train,y_train, epochs=10, batch_size=20)\n",
        "\n",
        "#Make predictions\n",
        "ypred = model.predict(X_test)"
      ],
      "id": "checked-silence",
      "execution_count": null,
      "outputs": [
        {
          "output_type": "stream",
          "text": [
            "Epoch 1/10\n",
            "10021/10021 [==============================] - 13s 1ms/step - loss: 11861973.8065\n",
            "Epoch 2/10\n",
            "10021/10021 [==============================] - 13s 1ms/step - loss: 17211284.7688\n",
            "Epoch 3/10\n",
            "10021/10021 [==============================] - 13s 1ms/step - loss: 5062415.8006\n",
            "Epoch 4/10\n",
            "10021/10021 [==============================] - 13s 1ms/step - loss: 23383781.2485\n",
            "Epoch 5/10\n",
            "10021/10021 [==============================] - 12s 1ms/step - loss: 21161869.4345\n",
            "Epoch 6/10\n",
            "10021/10021 [==============================] - 12s 1ms/step - loss: 20463729.9371\n",
            "Epoch 7/10\n",
            "10021/10021 [==============================] - 13s 1ms/step - loss: 6103673.4852\n",
            "Epoch 8/10\n",
            "10021/10021 [==============================] - 19s 2ms/step - loss: 25458596.5973\n",
            "Epoch 9/10\n",
            "10021/10021 [==============================] - 13s 1ms/step - loss: 18503865.0453\n",
            "Epoch 10/10\n",
            "10021/10021 [==============================] - 13s 1ms/step - loss: 38235636.4352\n"
          ],
          "name": "stdout"
        }
      ]
    },
    {
      "cell_type": "code",
      "metadata": {
        "id": "FOpey-6jRlOa"
      },
      "source": [
        "#Save the predictions and true results to csv's\n",
        "np.savetxt(r\"NN_10W_Reddit_ytest.csv\", y_test, delimiter=\",\")\n",
        "np.savetxt(r\"NN_10W_Reddit_ypred.csv\", ypred, delimiter=\",\")"
      ],
      "id": "FOpey-6jRlOa",
      "execution_count": null,
      "outputs": []
    }
  ]
}